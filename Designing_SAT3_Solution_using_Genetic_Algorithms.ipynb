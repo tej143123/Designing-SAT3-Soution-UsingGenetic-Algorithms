{
  "nbformat": 4,
  "nbformat_minor": 0,
  "metadata": {
    "colab": {
      "provenance": [],
      "authorship_tag": "ABX9TyM9+GpVXaicJ+sY6LBL9G7u",
      "include_colab_link": true
    },
    "kernelspec": {
      "name": "python3",
      "display_name": "Python 3"
    },
    "language_info": {
      "name": "python"
    }
  },
  "cells": [
    {
      "cell_type": "markdown",
      "metadata": {
        "id": "view-in-github",
        "colab_type": "text"
      },
      "source": [
        "<a href=\"https://colab.research.google.com/github/tej143123/Designing-SAT3-Soution-UsingGenetic-Algorithms/blob/main/Designing_SAT3_Solution_using_Genetic_Algorithms.ipynb\" target=\"_parent\"><img src=\"https://colab.research.google.com/assets/colab-badge.svg\" alt=\"Open In Colab\"/></a>"
      ]
    },
    {
      "cell_type": "code",
      "execution_count": null,
      "metadata": {
        "id": "oNv_VzZLLj9Z"
      },
      "outputs": [],
      "source": [
        "import sys\n",
        "import io\n",
        "import time\n",
        "import numpy as np"
      ]
    },
    {
      "cell_type": "code",
      "source": [
        "t = []\n",
        "t1 = time.time()"
      ],
      "metadata": {
        "id": "GdygWwj5LpCe"
      },
      "execution_count": null,
      "outputs": []
    },
    {
      "cell_type": "code",
      "source": [
        "def GetReverse(literal):\n",
        "    if literal[0] == '~':\n",
        "        return literal[1:]\n",
        "    else:\n",
        "        return '~' + literal"
      ],
      "metadata": {
        "id": "PGSPp6pDLqCE"
      },
      "execution_count": null,
      "outputs": []
    },
    {
      "cell_type": "code",
      "source": [
        "# Function to check if the clauses are satisfiable\n",
        "def is_satisfiable(n_vars, clauses):\n",
        "    candidates = {frozenset()}\n",
        "\n",
        "    for clause in clauses:\n",
        "        temp = set()\n",
        "\n",
        "        for s in candidates:\n",
        "            for literal in clause:\n",
        "                if GetReverse(literal) not in s:\n",
        "                    temp.add(s | {literal})\n",
        "\n",
        "        candidates = temp\n",
        "\n",
        "        if len(candidates) == 0:\n",
        "            return False\n",
        "\n",
        "    return True"
      ],
      "metadata": {
        "id": "XGl950DmLr2Y"
      },
      "execution_count": null,
      "outputs": []
    },
    {
      "cell_type": "code",
      "source": [
        "# Function to load the case from the input\n",
        "def load_case(f):\n",
        "    n_vars, n_clauses = f.readline().split()\n",
        "    clauses = [f.readline().strip().split(' v ') for _ in range(int(n_clauses))]\n",
        "    return int(n_vars), clauses"
      ],
      "metadata": {
        "id": "ShMqIp7TLv-S"
      },
      "execution_count": null,
      "outputs": []
    },
    {
      "cell_type": "code",
      "source": [
        "# Function to evaluate the fitness of a chromosome\n",
        "def evaluate_fitness(chromosome, clauses):\n",
        "    count_false = 0\n",
        "    for clause in clauses:\n",
        "        satisfied = False\n",
        "        for literal in clause:\n",
        "            if literal[0] == '~':\n",
        "                # Get the index for negation, handling 'X' prefix\n",
        "                var_index = int(literal[1:].replace('X', '')) - 1\n",
        "                if not chromosome[var_index]:  # Check if the variable is False\n",
        "                    satisfied = True\n",
        "                    break\n",
        "            else:\n",
        "                # Get the index for non-negation, handling 'X' prefix\n",
        "                var_index = int(literal.replace('X', '')) - 1\n",
        "                if chromosome[var_index]:  # Check if the variable is True\n",
        "                    satisfied = True\n",
        "                    break\n",
        "        if not satisfied:\n",
        "            count_false += 1\n",
        "    fitness = np.exp(-count_false)  # Calculate fitness\n",
        "    return fitness"
      ],
      "metadata": {
        "id": "z7S3OT-nLyw6"
      },
      "execution_count": null,
      "outputs": []
    },
    {
      "cell_type": "code",
      "source": [
        "# Function to select parents using tournament selection\n",
        "def select_parents(population, fitness_scores):\n",
        "    parents = []\n",
        "    for _ in range(2):  # Select two parents\n",
        "        tournament = np.random.choice(len(population), size=3, replace=False)\n",
        "        selected_parent = tournament[np.argmax(fitness_scores[tournament])]\n",
        "        parents.append(population[selected_parent])\n",
        "    return parents"
      ],
      "metadata": {
        "id": "5XsZdLRfL11r"
      },
      "execution_count": null,
      "outputs": []
    },
    {
      "cell_type": "code",
      "source": [
        "# Function to perform one-point crossover\n",
        "def crossover(parent1, parent2):\n",
        "    point = np.random.randint(1, len(parent1))  # Random crossover point\n",
        "    offspring1 = np.concatenate((parent1[:point], parent2[point:]))\n",
        "    offspring2 = np.concatenate((parent2[:point], parent1[point:]))\n",
        "    return offspring1, offspring2"
      ],
      "metadata": {
        "id": "sbYL8ohfL4aB"
      },
      "execution_count": null,
      "outputs": []
    },
    {
      "cell_type": "code",
      "source": [
        "# Function to perform mutation\n",
        "def mutate(chromosome, mutation_rate=0.1):\n",
        "    for i in range(len(chromosome)):\n",
        "        if np.random.rand() < mutation_rate:\n",
        "            chromosome[i] = 1 - chromosome[i]  # Flip the bit\n",
        "    return chromosome"
      ],
      "metadata": {
        "id": "8lsGVVBtL6wK"
      },
      "execution_count": null,
      "outputs": []
    },
    {
      "cell_type": "code",
      "source": [
        "# Main function\n",
        "def main(f=sys.stdin):\n",
        "    num_cases = int(f.readline())\n",
        "    for _ in range(num_cases):\n",
        "        n_vars, clauses = load_case(f)\n",
        "        print(clauses)\n",
        "\n",
        "        # Initialize population\n",
        "        pop_size = 10\n",
        "        population = np.random.randint(0, 2, (pop_size, n_vars))\n",
        "\n",
        "        # Print the initial population\n",
        "        print(\"Initial Population:\")\n",
        "        print(population)\n",
        "\n",
        "        generations = 100  # Set number of generations\n",
        "        mutation_rate = 0.1  # Mutation probability\n",
        "        best_individual = None  # To store the best individual\n",
        "        best_fitness = 0.0  # To store the best fitness value\n",
        "        t1 = time.time()  # Start timing\n",
        "\n",
        "        for generation in range(generations):\n",
        "            fitness_scores = np.array([evaluate_fitness(individual, clauses) for individual in population])\n",
        "\n",
        "            # Update the best individual and fitness\n",
        "            current_best_fitness = np.max(fitness_scores)\n",
        "            if current_best_fitness > best_fitness:\n",
        "                best_fitness = current_best_fitness\n",
        "                best_individual = population[np.argmax(fitness_scores)]\n",
        "\n",
        "            # Check if a satisfactory solution is found\n",
        "            if best_fitness == 1.0:\n",
        "                print(f\"Solution found in generation {generation}: {best_individual}\")\n",
        "                break\n",
        "\n",
        "            new_population = []\n",
        "            for _ in range(pop_size // 2):\n",
        "                parents = select_parents(population, fitness_scores)\n",
        "                offspring1, offspring2 = crossover(parents[0], parents[1])\n",
        "                new_population.append(mutate(offspring1, mutation_rate))\n",
        "                new_population.append(mutate(offspring2, mutation_rate))\n",
        "            population = np.array(new_population)\n",
        "\n",
        "        print(f\"Best fitness in final generation: {best_fitness}\")\n",
        "        print(f\"Population corresponding to best fitness: {best_individual}\")  # Print the best individual\n",
        "        print(f\"Execution time: {time.time() - t1} seconds\")\n",
        "\n",
        "# Sample data for testing\n",
        "data = \"\"\"\n",
        "1\n",
        "3 5\n",
        "X1 v X2 v X3\n",
        "X1 v ~X2\n",
        "X2 v ~X3\n",
        "X3 v ~X1\n",
        "~X1 v ~X2 v ~X3\n",
        "\"\"\".strip()\n",
        "\n",
        "# Run the main function with sample data\n",
        "main(io.StringIO(data))"
      ],
      "metadata": {
        "colab": {
          "base_uri": "https://localhost:8080/"
        },
        "id": "qgjU4zCzL-9W",
        "outputId": "3cb82d78-c3a9-449d-c971-9f4ce5a2d4bb"
      },
      "execution_count": null,
      "outputs": [
        {
          "output_type": "stream",
          "name": "stdout",
          "text": [
            "[['X1', 'X2', 'X3'], ['X1', '~X2'], ['X2', '~X3'], ['X3', '~X1'], ['~X1', '~X2', '~X3']]\n",
            "Initial Population:\n",
            "[[1 1 1]\n",
            " [0 1 1]\n",
            " [1 1 1]\n",
            " [0 1 1]\n",
            " [1 1 1]\n",
            " [0 1 0]\n",
            " [1 0 1]\n",
            " [1 0 0]\n",
            " [0 1 0]\n",
            " [1 0 1]]\n",
            "Best fitness in final generation: 0.36787944117144233\n",
            "Population corresponding to best fitness: [1 1 1]\n",
            "Execution time: 0.03663778305053711 seconds\n"
          ]
        }
      ]
    }
  ]
}